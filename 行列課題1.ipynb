{
  "nbformat": 4,
  "nbformat_minor": 0,
  "metadata": {
    "colab": {
      "name": "行列課題1.ipynb",
      "provenance": [],
      "authorship_tag": "ABX9TyNDdLvkaNpYKCFZ0KJ3tQRD",
      "include_colab_link": true
    },
    "kernelspec": {
      "name": "python3",
      "display_name": "Python 3"
    },
    "language_info": {
      "name": "python"
    }
  },
  "cells": [
    {
      "cell_type": "markdown",
      "metadata": {
        "id": "view-in-github",
        "colab_type": "text"
      },
      "source": [
        "<a href=\"https://colab.research.google.com/github/horitaka1999/MathmaticalProblems/blob/main/%E8%A1%8C%E5%88%97%E8%AA%B2%E9%A1%8C1.ipynb\" target=\"_parent\"><img src=\"https://colab.research.google.com/assets/colab-badge.svg\" alt=\"Open In Colab\"/></a>"
      ]
    },
    {
      "cell_type": "code",
      "metadata": {
        "colab": {
          "base_uri": "https://localhost:8080/"
        },
        "id": "kF2Rsz3OGygc",
        "outputId": "1a1285d1-8a2c-4cde-9259-4d99018bf7b6"
      },
      "source": [
        "import numpy as np\n",
        "A = [4,2]\n",
        "B = [1,5]\n",
        "convert = np.array(#変換行列\n",
        "    [[0,-1],[1,0]]\n",
        "    )\n",
        "after_A = convert.dot(A)\n",
        "after_B = convert.dot(B)\n",
        "print(after_A)"
      ],
      "execution_count": null,
      "outputs": [
        {
          "output_type": "stream",
          "text": [
            "[-2  4]\n"
          ],
          "name": "stdout"
        }
      ]
    },
    {
      "cell_type": "markdown",
      "metadata": {
        "id": "kzMYtGm5Ibxw"
      },
      "source": [
        "データの可視化"
      ]
    },
    {
      "cell_type": "code",
      "metadata": {
        "colab": {
          "base_uri": "https://localhost:8080/",
          "height": 312
        },
        "id": "YZsMR5lKIBVN",
        "outputId": "13b7961b-6ff9-4ef9-aada-1d6eee8e09b2"
      },
      "source": [
        "import numpy as np\n",
        "import matplotlib.pyplot as plt\n",
        "plt.xlabel(\"x\")\n",
        "plt.ylabel(\"y\")\n",
        "plt.axes().set_aspect(\"equal\")\n",
        "ax = plt.gca()  # gca stands for 'get current axis'\n",
        "ax.spines['right'].set_color('none')\n",
        "ax.spines['top'].set_color('none')\n",
        "ax.xaxis.set_ticks_position('bottom')\n",
        "ax.spines['bottom'].set_position(('data',0))\n",
        "ax.yaxis.set_ticks_position('left')\n",
        "ax.spines['left'].set_position(('data',0))\n",
        "plt.xlim(-6, 6)\n",
        "plt.ylim(-6, 6)\n",
        "x_dash = [A[0],B[0],after_A[0],after_B[0]]\n",
        "y_dash = [A[1],B[1],after_A[1],after_B[1]]\n",
        "plt.plot(x_dash, y_dash, \"o\", c=\"red\")\n",
        "plt.show()#点ごとに色を塗り替えようと思ったんですがめんどくさくてやめました。ごめんなさい"
      ],
      "execution_count": null,
      "outputs": [
        {
          "output_type": "stream",
          "text": [
            "/usr/local/lib/python3.7/dist-packages/ipykernel_launcher.py:5: MatplotlibDeprecationWarning: Adding an axes using the same arguments as a previous axes currently reuses the earlier instance.  In a future version, a new instance will always be created and returned.  Meanwhile, this warning can be suppressed, and the future behavior ensured, by passing a unique label to each axes instance.\n",
            "  \"\"\"\n"
          ],
          "name": "stderr"
        },
        {
          "output_type": "display_data",
          "data": {
            "image/png": "[encoded data removed]",
            "text/plain": [
              "<Figure size 432x288 with 1 Axes>"
            ]
          },
          "metadata": {
            "tags": [],
            "needs_background": "light"
          }
        }
      ]
    },
    {
      "cell_type": "markdown",
      "metadata": {
        "id": "bIH5vCykOIpN"
      },
      "source": [
        "(2)-(2)逆行列計算するのめんどくさいのでコンピュータ使います"
      ]
    },
    {
      "cell_type": "code",
      "metadata": {
        "colab": {
          "base_uri": "https://localhost:8080/"
        },
        "id": "qzuaLuz5OW9N",
        "outputId": "f80b7069-37bf-4a82-adcb-98ac74fc68a5"
      },
      "source": [
        "P = np.array([[1,-1,-1],\n",
        "     [1,-2,-1],\n",
        "     [-1,3,2]\n",
        "     ])\n",
        "    #逆行列の計算\n",
        "inv_P = np.linalg.inv(P)\n",
        "print(inv_P)"
      ],
      "execution_count": null,
      "outputs": [
        {
          "output_type": "stream",
          "text": [
            "[[ 1.  1.  1.]\n",
            " [ 1. -1.  0.]\n",
            " [-1.  2.  1.]]\n"
          ],
          "name": "stdout"
        }
      ]
    },
    {
      "cell_type": "code",
      "metadata": {
        "colab": {
          "base_uri": "https://localhost:8080/"
        },
        "id": "QEJ4trXsPcOy",
        "outputId": "52ed3b1b-5319-4519-d060-52401e89ce9f"
      },
      "source": [
        "A = np.array(\n",
        "    [\n",
        "     [0.5,1.5,1],\n",
        "     [0,2,1],\n",
        "     [0.5,-2.5,-1]\n",
        "    ]\n",
        ")\n",
        "B = inv_P.dot(A).dot(P)\n",
        "print(B)"
      ],
      "execution_count": null,
      "outputs": [
        {
          "output_type": "stream",
          "text": [
            "[[1.  0.  0. ]\n",
            " [0.  0.5 0. ]\n",
            " [0.  0.  0. ]]\n"
          ],
          "name": "stdout"
        }
      ]
    },
    {
      "cell_type": "code",
      "metadata": {
        "colab": {
          "base_uri": "https://localhost:8080/"
        },
        "id": "AXqijETcVY2P",
        "outputId": "d5a16013-fb43-4b92-ecbc-b9fe6a8f6e04"
      },
      "source": [
        "B_p = np.array(\n",
        "    [\n",
        "     [1,0,0],\n",
        "     [0,0,0],\n",
        "     [0,0,0]\n",
        "    ]\n",
        ")\n",
        "A_p = P.dot(B_p).dot(inv_P)\n",
        "print(A_p)"
      ],
      "execution_count": null,
      "outputs": [
        {
          "output_type": "stream",
          "text": [
            "[[ 1.  1.  1.]\n",
            " [ 1.  1.  1.]\n",
            " [-1. -1. -1.]]\n"
          ],
          "name": "stdout"
        }
      ]
    },
    {
      "cell_type": "markdown",
      "metadata": {
        "id": "N1vd1no4XE0V"
      },
      "source": [
        "(2)-(3)最小二乗近似解を求める。\n",
        "参考サイト:https://www.iwanttobeacat.com/entry/2018/01/13/221840\n"
      ]
    },
    {
      "cell_type": "code",
      "metadata": {
        "colab": {
          "base_uri": "https://localhost:8080/"
        },
        "id": "Woi70TWLXZXu",
        "outputId": "e8355a3b-0a22-4edf-93d9-8874a5cd51d1"
      },
      "source": [
        "W = np.array(\n",
        "    [\n",
        "     [3.001,1.003,0.988],\n",
        "     [3.971,3.010,-0.989],\n",
        "     [4.989,4.012,1.002]\n",
        "    ]\n",
        ")\n",
        "y = np.array(\n",
        "    [-4.991,-2.011,5.987]\n",
        ")\n",
        "X = np.linalg.inv(W.T.dot(W)).dot(W.T).dot(y)\n",
        "print(X)"
      ],
      "execution_count": null,
      "outputs": [
        {
          "output_type": "stream",
          "text": [
            "[-4.99514074  6.93426428  3.0813262 ]\n"
          ],
          "name": "stdout"
        }
      ]
    },
    {
      "cell_type": "markdown",
      "metadata": {
        "id": "DDMRY-01Zh5B"
      },
      "source": [
        ""
      ]
    }
  ]
}