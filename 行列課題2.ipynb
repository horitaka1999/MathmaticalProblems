{
  "nbformat": 4,
  "nbformat_minor": 0,
  "metadata": {
    "colab": {
      "name": "行列課題2.ipynb",
      "provenance": [],
      "authorship_tag": "ABX9TyOU9rA5DOfNpZRimvbyDPX9",
      "include_colab_link": true
    },
    "kernelspec": {
      "name": "python3",
      "display_name": "Python 3"
    },
    "language_info": {
      "name": "python"
    }
  },
  "cells": [
    {
      "cell_type": "markdown",
      "metadata": {
        "id": "view-in-github",
        "colab_type": "text"
      },
      "source": [
        "<a href=\"https://colab.research.google.com/github/horitaka1999/MathmaticalProblems/blob/main/%E8%A1%8C%E5%88%97%E8%AA%B2%E9%A1%8C2.ipynb\" target=\"_parent\"><img src=\"https://colab.research.google.com/assets/colab-badge.svg\" alt=\"Open In Colab\"/></a>"
      ]
    },
    {
      "cell_type": "markdown",
      "metadata": {
        "id": "Jw6BB2bbEjGR"
      },
      "source": [
        "(2)対角化行列"
      ]
    },
    {
      "cell_type": "code",
      "metadata": {
        "colab": {
          "base_uri": "https://localhost:8080/"
        },
        "id": "vB5jhom__qQ6",
        "outputId": "7f9344ea-ed34-4adb-818a-dc83cd685332"
      },
      "source": [
        "import numpy as np\n",
        "A = np.array(\n",
        "    [\n",
        "     [5,-2,4],[2,0,2],[-2,1,-1]\n",
        "    ]\n",
        ")\n",
        "A_eig = np.linalg.eig(A)\n",
        "print(A_eig[0])#固有値\n"
      ],
      "execution_count": 4,
      "outputs": [
        {
          "output_type": "stream",
          "text": [
            "[2. 1. 1.]\n"
          ],
          "name": "stdout"
        }
      ]
    },
    {
      "cell_type": "markdown",
      "metadata": {
        "id": "WVh5ubxJAwRg"
      },
      "source": [
        "https://python.atelierkobato.com/eigenvalue/\n"
      ]
    },
    {
      "cell_type": "markdown",
      "metadata": {
        "id": "udyj-DTEFKr2"
      },
      "source": [
        ""
      ]
    },
    {
      "cell_type": "markdown",
      "metadata": {
        "id": "nx105Nt-ASme"
      },
      "source": [
        "参考にしたサイトhttps://python.atelierkobato.com/eigenvalue/\n"
      ]
    },
    {
      "cell_type": "markdown",
      "metadata": {
        "id": "PEpbUpFPEoJ6"
      },
      "source": [
        "(3)連立微分方程式と行列\n",
        "参考にしたサイト　https://www.cck.dendai.ac.jp/math/support/ch6-supp/連立微分方程式への対角化の応用.pdf\n"
      ]
    },
    {
      "cell_type": "markdown",
      "metadata": {
        "id": "RIzgyT2oJKVZ"
      },
      "source": [
        "https://yossii.net/mod/page/view.php?id=343\n"
      ]
    },
    {
      "cell_type": "code",
      "metadata": {
        "colab": {
          "base_uri": "https://localhost:8080/"
        },
        "id": "q9S7PsFMHC72",
        "outputId": "b1027c23-0b7a-4025-8a90-e59e00b8a9c7"
      },
      "source": [
        "A = np.array(\n",
        "    [\n",
        "     [2,3],[2,1]\n",
        "    ]\n",
        ")\n",
        "A_eig = np.linalg.eig(A)\n",
        "print(A_eig)#固有値"
      ],
      "execution_count": 6,
      "outputs": [
        {
          "output_type": "stream",
          "text": [
            "(array([ 4., -1.]), array([[ 0.83205029, -0.70710678],\n",
            "       [ 0.5547002 ,  0.70710678]]))\n"
          ],
          "name": "stdout"
        }
      ]
    },
    {
      "cell_type": "markdown",
      "metadata": {
        "id": "J816xcc2YSjI"
      },
      "source": [
        "(4)二次形式と標準形\n",
        "http://www.c-able.ne.jp/~kjk/la44.pdf\n",
        "https://risalc.info/src/quadratic-form.html\n",
        "とても参考になります。"
      ]
    },
    {
      "cell_type": "code",
      "metadata": {
        "id": "vjACSGOMYnen"
      },
      "source": [
        ""
      ],
      "execution_count": null,
      "outputs": []
    }
  ]
}